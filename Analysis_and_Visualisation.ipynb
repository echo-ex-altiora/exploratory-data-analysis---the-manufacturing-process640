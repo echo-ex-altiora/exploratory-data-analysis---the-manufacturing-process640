{
 "cells": [
  {
   "cell_type": "markdown",
   "metadata": {},
   "source": [
    "# Milestone 4 : Analysis and Visualisation"
   ]
  },
  {
   "cell_type": "code",
   "execution_count": 1,
   "metadata": {},
   "outputs": [
    {
     "ename": "ModuleNotFoundError",
     "evalue": "No module named 'sqlalchemy'",
     "output_type": "error",
     "traceback": [
      "\u001b[1;31m---------------------------------------------------------------------------\u001b[0m",
      "\u001b[1;31mModuleNotFoundError\u001b[0m                       Traceback (most recent call last)",
      "Cell \u001b[1;32mIn[1], line 2\u001b[0m\n\u001b[0;32m      1\u001b[0m \u001b[38;5;28;01mimport\u001b[39;00m \u001b[38;5;21;01mipykernel\u001b[39;00m\n\u001b[1;32m----> 2\u001b[0m \u001b[38;5;28;01mfrom\u001b[39;00m \u001b[38;5;21;01mdb_utils\u001b[39;00m \u001b[38;5;28;01mimport\u001b[39;00m RDSDatabaseConnector\n\u001b[0;32m      3\u001b[0m \u001b[38;5;28;01mfrom\u001b[39;00m \u001b[38;5;21;01mdb_utils\u001b[39;00m \u001b[38;5;28;01mimport\u001b[39;00m load_dataframe\n\u001b[0;32m      4\u001b[0m \u001b[38;5;28;01mfrom\u001b[39;00m \u001b[38;5;21;01mEDA_classes\u001b[39;00m \u001b[38;5;28;01mimport\u001b[39;00m DataTransform\n",
      "File \u001b[1;32mc:\\Users\\nicol\\aicore\\TheManufactoringProcess\\db_utils.py:2\u001b[0m\n\u001b[0;32m      1\u001b[0m \u001b[38;5;28;01mimport\u001b[39;00m \u001b[38;5;21;01myaml\u001b[39;00m\n\u001b[1;32m----> 2\u001b[0m \u001b[38;5;28;01mfrom\u001b[39;00m \u001b[38;5;21;01msqlalchemy\u001b[39;00m \u001b[38;5;28;01mimport\u001b[39;00m create_engine \u001b[38;5;66;03m# type: ignore\u001b[39;00m\n\u001b[0;32m      3\u001b[0m \u001b[38;5;28;01mfrom\u001b[39;00m \u001b[38;5;21;01msqlalchemy\u001b[39;00m \u001b[38;5;28;01mimport\u001b[39;00m inspect \u001b[38;5;66;03m# type: ignore\u001b[39;00m\n\u001b[0;32m      4\u001b[0m \u001b[38;5;28;01mimport\u001b[39;00m \u001b[38;5;21;01mpandas\u001b[39;00m \u001b[38;5;28;01mas\u001b[39;00m \u001b[38;5;21;01mpd\u001b[39;00m\n",
      "\u001b[1;31mModuleNotFoundError\u001b[0m: No module named 'sqlalchemy'"
     ]
    }
   ],
   "source": [
    "import ipykernel\n",
    "from db_utils import RDSDatabaseConnector\n",
    "from db_utils import load_dataframe\n",
    "from EDA_classes import DataTransform\n",
    "from EDA_classes import DataFrameInfo\n",
    "from EDA_classes import Plotter\n",
    "from EDA_classes import DataframeTransform\n",
    "\n",
    "import seaborn as sns # type: ignore\n",
    "import matplotlib.pyplot as plt\n",
    "import pandas as pd\n",
    "\n",
    "connect = RDSDatabaseConnector()\n",
    "failure_df = load_dataframe()\n",
    "transform_dataset = DataTransform(failure_df)\n",
    "transform_dataset.auto_to_boolean()\n",
    "transform_dataset.manual_to_categorical('Type')\n",
    "\n",
    "\n",
    "transform = DataframeTransform(failure_df)\n",
    "transform.impute_with_median('Tool wear [min]')\n",
    "transform.impute_with_mean('Air temperature [K]')\n",
    "transform.impute_with_mean('Process temperature [K]')\n",
    "# transform.remove_rows_with_null()\n",
    "transform.correct_skew_boxcox(\"Rotational speed [rpm]\")\n",
    "transform.remove_outliers_IQR('Rotational speed [rpm]', 1.5)\n",
    "transform.remove_outliers_IQR('Torque [Nm]', 1.5)\n",
    "failure_df.drop('Process temperature [K]', axis=1, inplace=True)\n",
    "\n",
    "info = DataFrameInfo(failure_df)\n",
    "plot = Plotter(failure_df)"
   ]
  },
  {
   "cell_type": "markdown",
   "metadata": {},
   "source": [
    "### Task 1 : Current Operating Ranges\n",
    "In this task if you're unsure what each column represents you may want to keep your data dictionary on hand as a reference. The business would like to understand at what ranges the machine is operating at currently. "
   ]
  },
  {
   "cell_type": "markdown",
   "metadata": {},
   "source": [
    "Create a table which displays to operating ranges of:\n",
    "- Air Temperature\n",
    "- Process temperature\n",
    "- Rotational speed \n",
    "- Torque [Nm]\n",
    "- Tool wear [min]\n",
    "\n",
    "Then breakdown the same data to understand the ranges for each of the different product quality types.\n",
    "\n",
    "The management would also like to know the upper limits of tool wear the machine tools have been operating at. Create a visualisation displaying the number of tools operating at different tool wear values."
   ]
  },
  {
   "cell_type": "code",
   "execution_count": null,
   "metadata": {},
   "outputs": [],
   "source": [
    "column_names = list(failure_df.columns)\n",
    "numeric_features = [col for col in failure_df.columns[1:]\n",
    "                    if failure_df[col].dtype == 'float64' or failure_df[col].dtype == 'int64']\n",
    "\n",
    "operating_ranges_df = failure_df[numeric_features].agg(['min', 'max'])\n",
    "print(operating_ranges_df.head(5))\n",
    "\n",
    "operating_ranges_by_type = failure_df.groupby(['Type'], observed=False)[numeric_features].agg(['min', 'max'])\n",
    "print(operating_ranges_by_type.head(10))\n",
    "\n",
    "plot.countplot(\"Tool wear [min]\")\n",
    "plot.histogram(\"Tool wear [min]\")"
   ]
  },
  {
   "cell_type": "markdown",
   "metadata": {},
   "source": [
    "### Task 2 : Determine the failure rate in the process\n",
    "\n",
    "You've been tasked with determining how many and the leading causes of failure are in the manufacturing process."
   ]
  },
  {
   "cell_type": "markdown",
   "metadata": {},
   "source": [
    "#### Step 1 : Determine and visualise how many failures have happened in the process\n",
    "\n",
    "What percentage is this of the total? \n",
    "Check if the failures are being caused based on the quality of the product."
   ]
  },
  {
   "cell_type": "code",
   "execution_count": null,
   "metadata": {},
   "outputs": [],
   "source": [
    "print(f'\\n{failure_df['Machine failure'].value_counts()} \\n')\n",
    "plot.countplot('Machine failure')\n",
    "print(f'{failure_df['Machine failure'].value_counts(normalize=True) * 100} \\n')\n",
    "\n",
    "machine_failure_by_type = failure_df.groupby(['Type'], observed=False)['Machine failure'].value_counts()\n",
    "print(f'{machine_failure_by_type} \\n')\n",
    "\n",
    "machine_failure_by_type_normalised = failure_df.groupby(['Type'], observed=False)['Machine failure'].value_counts(normalize=True) * 100\n",
    "print(f'{machine_failure_by_type_normalised} \\n')\n",
    "# Machine failure twice as likely to occur on low quality product"
   ]
  },
  {
   "cell_type": "markdown",
   "metadata": {},
   "source": [
    "#### Step 2 : What seems to be the leading causes of failure in the process? \n",
    "\n",
    "Create a visualisation of the number of failures due to each possible cause during the manufacturing process."
   ]
  },
  {
   "cell_type": "code",
   "execution_count": null,
   "metadata": {},
   "outputs": [],
   "source": [
    "temp_df = failure_df.loc[failure_df['Machine failure'] == True]\n",
    "temp_df.drop(temp_df.columns[[0,1,2,3,4,5,6,7]], axis=1, inplace=True)\n",
    "\n",
    "temp_df_count = temp_df.sum()\n",
    "print(f'{temp_df_count} \\n')\n",
    "\n",
    "df = pd.melt(temp_df)\n",
    "sns.countplot(data=df, x='variable', hue='value')\n",
    "plt.show()\n",
    "# heat dissipation failure (HDF) is the leading cause of failures"
   ]
  },
  {
   "cell_type": "markdown",
   "metadata": {},
   "source": [
    "### Task 3 : A deeper understanding of failures\n",
    "\n",
    "With the failures identified you will need to dive deeper into what the possible causes of failure might be in the process."
   ]
  },
  {
   "cell_type": "markdown",
   "metadata": {},
   "source": [
    "For each different possible type of failure try to investigate if there is any correlation between any of the settings the machine was running at. Do the failures happen at certain torque ranges, processing temperatures or rpm?\n",
    "\n",
    "Try to identify these risk factors so that the company can make more informed decisions about what settings to run the machines at. \n",
    "\n",
    "If you find any insight into when the machine is likely to fail then develop a strategy on how the machine might be setup to avoid this.\n"
   ]
  },
  {
   "cell_type": "code",
   "execution_count": null,
   "metadata": {},
   "outputs": [],
   "source": [
    "possible_failures = {'TWF':'Tool wear failure', 'HDF':'Heat dissipation failure', 'PWF':'Power failure', 'OSF':'Overstrain failure', 'RNF':'Random failure'}\n",
    "for key, value in possible_failures.items():\n",
    "    print('\\n', value)\n",
    "    operating_ranges_by_failure = failure_df.groupby([key], observed=False)[[numeric_features]].agg(['min', 'max', 'mean'])\n",
    "    print(operating_ranges_by_failure)"
   ]
  },
  {
   "cell_type": "markdown",
   "metadata": {},
   "source": [
    "TWF \n",
    "- Process temperature : range and mean are similar\n",
    "- Rotational speed : range and mean are similar\n",
    "- Torque : range and mean are similar\n",
    "- Tool wear : When TWF = True, the mean is ~211 and minimum value is 108 compared to a mean of ~108 and minimum value of 0 when TWF=False\n",
    "Summary : TWF is far more likely to occur when Tool wear is high\n",
    "\n",
    "HDF\n",
    "- Process temperature : When HDF = True, the mean is higher by ~1 degrees and the minimum value is ~ 4 degrees higher\n",
    "- Rotational speed : When HDF = True, the mean and max are both significantly lower\n",
    "- Torque : When HDF = True, the mean is higher by ~12 and the min is higher by ~21 \n",
    "- Tool wear : range and mean are similar\n",
    "Summary : HDF is not likely to occur when Process temperature and Torque are kept lower and rotational speed is higher\n",
    "\n",
    "PWF - \n",
    "- Process temperature : the means are very similar, although the minimum value is higher by ~3 when PWF = True\n",
    "- Rotational speed : When PWF = True, the mean and max are both significantly lower\n",
    "- Torque : When PWF = True, the mean is higher by ~22 and the min is higher by ~38 \n",
    "- Tool wear : range and mean are similar\n",
    "Summary : PWF more likely to occur when Torque is high and rotational speed is low\n",
    "\n",
    "OSF - \n",
    "- Process temperature : range and mean are very similar\n",
    "- Rotational speed : When OSF = True, the mean and max are both lower\n",
    "- Torque : When OSF = True, the mean is higher by ~16 and the min is higher by ~26 \n",
    "- Tool wear : When OSF = True, the mean is ~205 and minimum value is 108 compared to a mean of ~107 and minimum value of 0 when OSF = False\n",
    "\n",
    "RNF - \n",
    "- Process temperature : range and mean are very similar\n",
    "- Rotational speed : range and mean are similar\n",
    "- Torque : range and mean are similar\n",
    "- Tool wear : range and mean are similar\n",
    "Summary : Nothing much of note"
   ]
  },
  {
   "cell_type": "markdown",
   "metadata": {},
   "source": [
    "Risk Factors are:\n",
    "- High Torque : exceeding 40 Nm\n",
    "- High Tool wear : exceeding 108 min\n",
    "- Low Rotational speed : below 1500 rpm\n"
   ]
  }
 ],
 "metadata": {
  "kernelspec": {
   "display_name": "Python 3",
   "language": "python",
   "name": "python3"
  },
  "language_info": {
   "name": "python",
   "version": "3.11.9"
  }
 },
 "nbformat": 4,
 "nbformat_minor": 2
}
